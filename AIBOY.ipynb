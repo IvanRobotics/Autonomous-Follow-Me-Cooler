{
  "nbformat": 4,
  "nbformat_minor": 0,
  "metadata": {
    "colab": {
      "provenance": [],
      "authorship_tag": "ABX9TyMtI3JBVBCP63WGst5B8bJu",
      "include_colab_link": true
    },
    "kernelspec": {
      "name": "python3",
      "display_name": "Python 3"
    },
    "language_info": {
      "name": "python"
    }
  },
  "cells": [
    {
      "cell_type": "markdown",
      "metadata": {
        "id": "view-in-github",
        "colab_type": "text"
      },
      "source": [
        "<a href=\"https://colab.research.google.com/github/IvanRobotics/Autonomous-Follow-Me-Cooler/blob/master/AIBOY.ipynb\" target=\"_parent\"><img src=\"https://colab.research.google.com/assets/colab-badge.svg\" alt=\"Open In Colab\"/></a>"
      ]
    },
    {
      "cell_type": "markdown",
      "source": [
        "<h3>Libraries </h3>\n",
        "\n",
        "*   **openai**: This library provides an API to access the OpenAI platform, which offers a range of artificial intelligence services, such as natural language processing, image recognition, and more. With this library, developers can easily integrate OpenAI's services into their applications and leverage the power of AI to enhance their functionality.\n",
        "*   **os**: This library provides a way to interact with the operating system, such as creating, deleting, and manipulating files and directories, managing processes, and more. It is essential for many applications that need to interact with the file system or the system itself.\n",
        "*   **gradio**: This library provides a simple interface to build and deploy customizable UI components for machine learning models. It is useful for building interactive demos, sharing models with non-technical users, and rapidly prototyping model architectures.\n",
        "*  **spacy**: This library provides industrial-strength natural language processing tools for Python. It includes functionality for tokenization, POS tagging, named entity recognition, and more. It is widely used in applications that require sophisticated text analysis and processing.\n",
        "* **knowledge**: It contains Knowledge bases which are useful for applications such as question answering, chatbots, and expert systems.\n",
        "* **components**: This is a sub-module of the gradio library and provides pre-built UI components that can be used to build custom interfaces for machine learning models. It includes components for image input/output, text input/output, sliders, and more.\n",
        "\n"
      ],
      "metadata": {
        "id": "zn099vRuF8T6"
      }
    },
    {
      "cell_type": "code",
      "source": [
        "import openai\n",
        "import os\n",
        "import gradio as gr\n",
        "import spacy\n",
        "from knowledge import knowledge_base\n",
        "from gradio import components"
      ],
      "metadata": {
        "id": "qxuEJlgnFC9f"
      },
      "execution_count": null,
      "outputs": []
    },
    {
      "cell_type": "markdown",
      "source": [
        "* **openai.api_key = os.environ.get('OPENAI_API_KEY')**: This line sets the API key for OpenAI's services, which is retrieved from an environment variable. This is a best practice for security reasons, as it keeps the API key hidden from public view.\n",
        "\n",
        "* **nlp = spacy.load(\"en_core_web_lg\")**: This line loads the \"en_core_web_lg\" model from the spaCy library, which is a large English language model that includes word vectors, syntax, and named entity recognition. This is a common model used in natural language processing applications.\n",
        "\n",
        "* **messages = [{\"role\": \"system\", \"content\": \"You are a helpful and kind AI Assistant.\"},]**: This creates a list of message objects, where each message has a \"role\" and \"content\" attribute. In this case, there is only one message, which is a system message that compliments the AI assistant. This list of messages is likely used in some kind of conversational AI application."
      ],
      "metadata": {
        "id": "p8CBiVQAHvuK"
      }
    },
    {
      "cell_type": "code",
      "source": [
        "openai.api_key = os.environ.get('OPENAI_API_KEY')\n",
        "nlp = spacy.load(\"en_core_web_lg\")\n",
        "custom_css = \"./style.css\"\n",
        "\n",
        "messages = [\n",
        "    {\"role\": \"system\", \"content\": \"You are a helpful and kind AI Assistant.\"},\n",
        "]"
      ],
      "metadata": {
        "id": "oD4iYORdHJkn"
      },
      "execution_count": null,
      "outputs": []
    },
    {
      "cell_type": "markdown",
      "source": [
        "\n",
        "\n",
        "\n",
        "\n",
        "**get_matching_question function**\n",
        "\n",
        "\n",
        "* This function searches through a knowledge base of questions and answers, and returns the matching question and its corresponding answer if the input contains a question from the knowledge base. If there is no match,the function returns None for both question and answer."
      ],
      "metadata": {
        "id": "dkL-8Yd-H-ke"
      }
    },
    {
      "cell_type": "code",
      "source": [
        "def get_matching_question(input):\n",
        "    \"\"\"\n",
        "    Returns the matching question from the knowledge base, if any.\n",
        "    \"\"\"\n",
        "    for question, answer in knowledge_base.items():\n",
        "        if question in input.lower():\n",
        "            return question, answer\n",
        "    return None, None"
      ],
      "metadata": {
        "id": "PbxNsTAvHJo3"
      },
      "execution_count": null,
      "outputs": []
    },
    {
      "cell_type": "markdown",
      "source": [
        "**get_most_similar_question**\n",
        "\n",
        "* This function finds the most similar question in the knowledge base to the input text using the spaCy library. It returns the most similar question if one is found, or None if there are no similar questions in the knowledge base."
      ],
      "metadata": {
        "id": "rzE4u6fUI-3v"
      }
    },
    {
      "cell_type": "code",
      "source": [
        "def get_most_similar_question(input):\n",
        "    \"\"\"\n",
        "    Returns the most similar question from the knowledge base using Spacy.\n",
        "    \"\"\"\n",
        "    similarities = []\n",
        "    for question in knowledge_base.keys():\n",
        "        try:\n",
        "            similarity = nlp(question).similarity(nlp(input))\n",
        "            similarities.append((question, similarity))\n",
        "        except:\n",
        "            pass\n",
        "\n",
        "    similarities = sorted(similarities, key=lambda x: x[1], reverse=True)\n",
        "    most_similar_question = similarities[0][0] if similarities else None\n",
        "    return most_similar_question"
      ],
      "metadata": {
        "id": "Ky9vC4w9HJr8"
      },
      "execution_count": null,
      "outputs": []
    },
    {
      "cell_type": "markdown",
      "source": [
        "**check_sentiment**\n",
        "\n",
        "* This functions check the sentiment of the input sentences, and the AI will generate the reponses correspondingly "
      ],
      "metadata": {
        "id": "kAiGixA0JZF_"
      }
    },
    {
      "cell_type": "code",
      "source": [
        "def check_sentiment(input):\n",
        "    \"\"\"\n",
        "    Checks the sentiment of the input using Spacy's text classification model.\n",
        "    \"\"\"\n",
        "    doc = nlp(input)\n",
        "    return doc.cats[\"POSITIVE\"] > doc.cats[\"NEGATIVE\"]"
      ],
      "metadata": {
        "id": "YdcHiHBVHJwj"
      },
      "execution_count": null,
      "outputs": []
    },
    {
      "cell_type": "markdown",
      "source": [
        "**chatbot**\n",
        "\n",
        "* This function processes input text for a conversational AI application. It adds the input to the list of messages, checks if the input matches a question in the knowledge base, and if not, finds the most similar question using Spacy.If there is no matching question, it checks the sentiment of the input and responds accordingly."
      ],
      "metadata": {
        "id": "gTUka1MJJziD"
      }
    },
    {
      "cell_type": "code",
      "source": [
        "\n",
        "def chatbot(input):\n",
        "    if input:\n",
        "        messages.append({\"role\": \"user\", \"content\": input})\n",
        "\n",
        "        # check if input matches any question in the knowledge base\n",
        "        question, answer = get_matching_question(input)\n",
        "        if question:\n",
        "            messages.append({\"role\": \"assistant\", \"content\": answer})\n",
        "            return answer\n",
        "\n",
        "        # if no matching question is found, use Spacy to find the most similar question in the knowledge base\n",
        "        most_similar_question = get_most_similar_question(input)\n",
        "        if most_similar_question:\n",
        "            answer = knowledge_base[most_similar_question]\n",
        "            messages.append({\"role\": \"assistant\", \"content\": answer})\n",
        "            return answer\n",
        "\n",
        "        # check the sentiment of the input\n",
        "        is_positive = check_sentiment(input)\n",
        "\n",
        "        if is_positive:\n",
        "            messages.append({\"role\": \"assistant\", \"content\": \"I'm glad to hear that!\"})\n",
        "            return \"I'm glad to hear that!\"\n",
        "        else:\n",
        "            messages.append({\"role\": \"assistant\", \"content\": \"I'm sorry to hear that.\"})\n",
        "            return \"I'm sorry to hear that.\"\n"
      ],
      "metadata": {
        "id": "7pu5YdY3HJ8I"
      },
      "execution_count": null,
      "outputs": []
    },
    {
      "cell_type": "markdown",
      "source": [
        "<h3>\n",
        "Set up Gradio Interface \n",
        "</h3>\n"
      ],
      "metadata": {
        "id": "u_c-Jb9wG6k5"
      }
    },
    {
      "cell_type": "code",
      "source": [
        "inputs = components.Textbox(lines=7, label=\"Chat with AI BOY\")\n",
        "outputs = components.Textbox(label=\"Reply\")\n",
        "gr.Interface(\n",
        "    fn=chatbot,\n",
        "    inputs=inputs,\n",
        "    outputs=outputs,\n",
        "    title=\"Welcome to My AI Chatbot\",\n",
        "    description=\"Feel free to ask me anything about Ivan's resume!\",\n",
        "    css=custom_css,\n",
        ").launch()"
      ],
      "metadata": {
        "id": "IRyJ614bE_fx"
      },
      "execution_count": null,
      "outputs": []
    }
  ]
}